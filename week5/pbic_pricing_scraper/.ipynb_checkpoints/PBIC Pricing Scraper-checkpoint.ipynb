{
 "cells": [
  {
   "cell_type": "code",
   "execution_count": null,
   "metadata": {
    "collapsed": true
   },
   "outputs": [],
   "source": [
    "import requests\n",
    "import bs4\n",
    "import csv\n",
    "from datetime import datetime"
   ]
  },
  {
   "cell_type": "code",
   "execution_count": null,
   "metadata": {
    "collapsed": true
   },
   "outputs": [],
   "source": [
    "def remove_all_whitespace(x):\n",
    "    \"\"\"\n",
    "    Returns a string with any blank spaces removed.\n",
    "    \"\"\"\n",
    "    try:\n",
    "        x = x.replace(\" \", \"\")\n",
    "    except:\n",
    "        pass\n",
    "    return x"
   ]
  },
  {
   "cell_type": "code",
   "execution_count": null,
   "metadata": {
    "collapsed": true
   },
   "outputs": [],
   "source": [
    "def trim_the_ends(x):\n",
    "    \"\"\"\n",
    "    Returns a string with space on the left and right removed.\n",
    "    \"\"\"\n",
    "    try:\n",
    "        x = x.strip(' \\t\\n\\r')\n",
    "    except:\n",
    "        pass\n",
    "    return x"
   ]
  },
  {
   "cell_type": "code",
   "execution_count": null,
   "metadata": {
    "collapsed": true
   },
   "outputs": [],
   "source": [
    "def remove_unneeded_chars(x):\n",
    "    \"\"\"\n",
    "    Returns the string without the unneeded chars\n",
    "    \"\"\"\n",
    "    try:\n",
    "        x = x.replace(\"$\", \"\").replace(\"RRP\", \"\")\n",
    "    except:\n",
    "        pass\n",
    "    return x"
   ]
  },
  {
   "cell_type": "code",
   "execution_count": null,
   "metadata": {
    "collapsed": true
   },
   "outputs": [],
   "source": [
    "URL = (\"https://www.packtpub.com/application-development/\"\n",
    "       \"python-business-intelligence-cookbook\")\n",
    "response = requests.get(URL)"
   ]
  },
  {
   "cell_type": "code",
   "execution_count": null,
   "metadata": {
    "collapsed": false
   },
   "outputs": [],
   "source": [
    "response.text"
   ]
  },
  {
   "cell_type": "code",
   "execution_count": null,
   "metadata": {
    "collapsed": false
   },
   "outputs": [],
   "source": [
    "soup = bs4.BeautifulSoup(response.text, \"html.parser\")"
   ]
  },
  {
   "cell_type": "code",
   "execution_count": null,
   "metadata": {
    "collapsed": false
   },
   "outputs": [],
   "source": [
    "soup"
   ]
  },
  {
   "cell_type": "code",
   "execution_count": null,
   "metadata": {
    "collapsed": true
   },
   "outputs": [],
   "source": [
    "# Extract the pricing data\n",
    "price_ebook = soup.select('.book-top-pricing-main-ebook-price ')[1].get_text()\n",
    "price_book = soup.select('.book-top-pricing-main-book-price ')[0].get_text()\n",
    "price_rrp_ebook = soup.select('.book-top-pricing-rrp-ebook')[0].get_text()\n",
    "price_rrp_book = soup.select('.book-top-pricing-rrp-book')[0].get_text()"
   ]
  },
  {
   "cell_type": "code",
   "execution_count": null,
   "metadata": {
    "collapsed": false
   },
   "outputs": [],
   "source": [
    "price_rrp_ebook, price_book, price_rrp_ebook, price_rrp_book"
   ]
  },
  {
   "cell_type": "code",
   "execution_count": null,
   "metadata": {
    "collapsed": true
   },
   "outputs": [],
   "source": [
    "# Clean the data\n",
    "price_ebook = remove_all_whitespace(price_ebook)\n",
    "price_ebook = trim_the_ends(price_ebook)\n",
    "price_ebook = remove_unneeded_chars(price_ebook)\n",
    "\n",
    "price_book = remove_all_whitespace(price_book)\n",
    "price_book = trim_the_ends(price_book)\n",
    "price_book = remove_unneeded_chars(price_book)\n",
    "\n",
    "price_rrp_ebook = remove_all_whitespace(price_rrp_ebook)\n",
    "price_rrp_ebook = trim_the_ends(price_rrp_ebook)\n",
    "price_rrp_ebook = remove_unneeded_chars(price_rrp_ebook)\n",
    "\n",
    "price_rrp_book = remove_all_whitespace(price_rrp_book)\n",
    "price_rrp_book = trim_the_ends(price_rrp_book)\n",
    "price_rrp_book = remove_unneeded_chars(price_rrp_book)"
   ]
  },
  {
   "cell_type": "code",
   "execution_count": null,
   "metadata": {
    "collapsed": false
   },
   "outputs": [],
   "source": [
    "price_rrp_ebook, price_book, price_rrp_ebook, price_rrp_book"
   ]
  },
  {
   "cell_type": "code",
   "execution_count": null,
   "metadata": {
    "collapsed": true
   },
   "outputs": [],
   "source": [
    "# Append the pricing data to the CSV file\n",
    "pricing_file = (\"/Users/robert.dempsey/Dropbox/Private/Art of Skill Hacking/In-Person Training/Web Scraping and Data Mining/Course Material/Week 5 - Web Scraping with Python/pricing_history.csv\")"
   ]
  },
  {
   "cell_type": "code",
   "execution_count": null,
   "metadata": {
    "collapsed": true
   },
   "outputs": [],
   "source": [
    "with open(pricing_file, 'a', newline='') as fp:\n",
    "    a = csv.writer(fp, delimiter=',')\n",
    "    data = [[datetime.now(),\n",
    "             URL,\n",
    "             price_ebook,\n",
    "             price_book,\n",
    "             price_rrp_ebook,\n",
    "             price_rrp_book]]\n",
    "    a.writerows(data)"
   ]
  },
  {
   "cell_type": "code",
   "execution_count": null,
   "metadata": {
    "collapsed": true
   },
   "outputs": [],
   "source": []
  }
 ],
 "metadata": {
  "kernelspec": {
   "display_name": "Python 3",
   "language": "python",
   "name": "python3"
  },
  "language_info": {
   "codemirror_mode": {
    "name": "ipython",
    "version": 3
   },
   "file_extension": ".py",
   "mimetype": "text/x-python",
   "name": "python",
   "nbconvert_exporter": "python",
   "pygments_lexer": "ipython3",
   "version": "3.5.1"
  }
 },
 "nbformat": 4,
 "nbformat_minor": 0
}
